{
 "cells": [
  {
   "cell_type": "code",
   "execution_count": 1,
   "id": "a238af3a",
   "metadata": {},
   "outputs": [],
   "source": [
    "import pandas as pd\n",
    "import tensorflow as tf\n",
    "df_train=pd.read_csv(\"train.csv\",dtype=str)\n",
    "df_test=pd.read_csv(\"test.csv\",dtype=str)"
   ]
  },
  {
   "cell_type": "code",
   "execution_count": 2,
   "id": "6887e45e",
   "metadata": {},
   "outputs": [
    {
     "name": "stdout",
     "output_type": "stream",
     "text": [
      "2528\n"
     ]
    }
   ],
   "source": [
    "train_files=df_train.iloc[:,0].values\n",
    "train_labels=df_train.iloc[:,1].values\n",
    "print(len(train_files))"
   ]
  },
  {
   "cell_type": "markdown",
   "id": "94bcdb3f",
   "metadata": {},
   "source": [
    "# Calculate the number of target features"
   ]
  },
  {
   "cell_type": "code",
   "execution_count": 3,
   "id": "c3febd0e",
   "metadata": {},
   "outputs": [
    {
     "name": "stderr",
     "output_type": "stream",
     "text": [
      "C:\\Users\\yantinglai\\anaconda3\\envs\\tf2.0\\lib\\site-packages\\seaborn\\_decorators.py:43: FutureWarning: Pass the following variable as a keyword arg: x. From version 0.12, the only valid positional argument will be `data`, and passing other arguments without an explicit keyword will result in an error or misinterpretation.\n",
      "  FutureWarning\n"
     ]
    },
    {
     "data": {
      "image/png": "[encoded data removed]",
      "text/plain": [
       "<Figure size 432x288 with 1 Axes>"
      ]
     },
     "metadata": {
      "needs_background": "light"
     },
     "output_type": "display_data"
    }
   ],
   "source": [
    "import seaborn as sns \n",
    "g=sns.countplot(train_labels, order=[\"0\",\"1\",\"2\",\"3\",\"4\",\"5\"])"
   ]
  },
  {
   "cell_type": "markdown",
   "id": "50775da9",
   "metadata": {},
   "source": [
    "# change weight"
   ]
  },
  {
   "cell_type": "code",
   "execution_count": 4,
   "id": "7d7b95ce",
   "metadata": {},
   "outputs": [
    {
     "name": "stderr",
     "output_type": "stream",
     "text": [
      "C:\\Users\\yantinglai\\anaconda3\\envs\\tf2.0\\lib\\site-packages\\sklearn\\utils\\validation.py:72: FutureWarning: Pass classes=['0' '1' '2' '3' '4' '5'], y=['0' '1' '1' ... '3' '0' '5'] as keyword args. From version 1.0 (renaming of 0.25) passing these as positional arguments will result in an error\n",
      "  \"will result in an error\", FutureWarning)\n"
     ]
    }
   ],
   "source": [
    "from sklearn.utils import class_weight\n",
    "import numpy as np \n",
    "class_weight=class_weight.compute_class_weight(\"balanced\",np.unique(train_labels),train_labels)"
   ]
  },
  {
   "cell_type": "markdown",
   "id": "2aebeabb",
   "metadata": {},
   "source": [
    "# train_test_split"
   ]
  },
  {
   "cell_type": "code",
   "execution_count": 5,
   "id": "892db10d",
   "metadata": {},
   "outputs": [],
   "source": [
    "from sklearn.model_selection import train_test_split\n",
    "train,valid=train_test_split(df_train,test_size=0.2,random_state=66)"
   ]
  },
  {
   "cell_type": "markdown",
   "id": "e781ad89",
   "metadata": {},
   "source": [
    "# generate data"
   ]
  },
  {
   "cell_type": "code",
   "execution_count": 6,
   "id": "b3c282fb",
   "metadata": {},
   "outputs": [],
   "source": [
    "train_datagen = tf.keras.preprocessing.image.ImageDataGenerator(\n",
    "                                    rotation_range=0,\n",
    "                                    horizontal_flip=False,\n",
    "                                    vertical_flip=False,\n",
    "                                    width_shift_range=0.05,\n",
    "                                    height_shift_range=0.05,\n",
    "                                    preprocessing_function=tf.keras.applications.mobilenet.preprocess_input\n",
    "                                   )\n",
    "\n",
    "valid_datagen = tf.keras.preprocessing.image.ImageDataGenerator(preprocessing_function=tf.keras.applications.mobilenet.preprocess_input)"
   ]
  },
  {
   "cell_type": "code",
   "execution_count": 7,
   "id": "087e4648",
   "metadata": {},
   "outputs": [
    {
     "name": "stdout",
     "output_type": "stream",
     "text": [
      "Found 2022 validated image filenames belonging to 6 classes.\n",
      "Found 506 validated image filenames belonging to 6 classes.\n"
     ]
    }
   ],
   "source": [
    "img_shape = (224, 224)\n",
    "batch_size = 16\n",
    "\n",
    "train_generator = train_datagen.flow_from_dataframe(\n",
    "                                                      dataframe=train,\n",
    "                                                      directory=\"train_images\",\n",
    "                                                      x_col=\"ID\",\n",
    "                                                      y_col=\"Label\",\n",
    "                                                      target_size=img_shape,\n",
    "                                                      batch_size=batch_size,\n",
    "                                                      class_mode='categorical',\n",
    "                                                      shuffle=False)\n",
    "valid_generator = valid_datagen.flow_from_dataframe(\n",
    "                                                      dataframe=valid,\n",
    "                                                      directory=\"train_images\",\n",
    "                                                      x_col=\"ID\",\n",
    "                                                      y_col=\"Label\",\n",
    "                                                      target_size=img_shape,\n",
    "                                                      batch_size=batch_size,\n",
    "                                                      class_mode='categorical',\n",
    "                                                      shuffle=False)"
   ]
  },
  {
   "cell_type": "markdown",
   "id": "c2c3fbc7",
   "metadata": {},
   "source": [
    "# Calculate batch size"
   ]
  },
  {
   "cell_type": "code",
   "execution_count": 8,
   "id": "04c14069",
   "metadata": {},
   "outputs": [],
   "source": [
    "def num_steps_per_epoch(data_generator, batch_size):\n",
    "    if data_generator.n % batch_size==0:\n",
    "        return data_generator.n//batch_size\n",
    "    else:\n",
    "        return data_generator.n//batch_size + 1\n",
    "\n",
    "train_steps = num_steps_per_epoch(train_generator, batch_size)\n",
    "valid_steps = num_steps_per_epoch(valid_generator, batch_size)"
   ]
  },
  {
   "cell_type": "markdown",
   "id": "0bc20c2c",
   "metadata": {},
   "source": [
    "# Modeling"
   ]
  },
  {
   "cell_type": "code",
   "execution_count": 9,
   "id": "e92d5d78",
   "metadata": {},
   "outputs": [],
   "source": [
    "model=tf.keras.applications.MobileNet(weights='imagenet',input_shape=(img_shape[0], img_shape[1], 3), include_top=False)"
   ]
  },
  {
   "cell_type": "code",
   "execution_count": 10,
   "id": "b4b8ef2c",
   "metadata": {},
   "outputs": [],
   "source": [
    "from tensorflow.keras.models import Model\n",
    "\n",
    "x =  tf.keras.layers.GlobalAveragePooling2D()(model.output)\n",
    "outputs =  tf.keras.layers.Dense(6, activation=\"softmax\")(x)\n",
    "\n",
    "model=Model(inputs=model.inputs,outputs=outputs)"
   ]
  },
  {
   "cell_type": "code",
   "execution_count": 30,
   "id": "8e26dea7",
   "metadata": {
    "scrolled": true
   },
   "outputs": [
    {
     "name": "stdout",
     "output_type": "stream",
     "text": [
      "Model: \"model\"\n",
      "_________________________________________________________________\n",
      "Layer (type)                 Output Shape              Param #   \n",
      "=================================================================\n",
      "input_1 (InputLayer)         [(None, 224, 224, 3)]     0         \n",
      "_________________________________________________________________\n",
      "conv1_pad (ZeroPadding2D)    (None, 225, 225, 3)       0         \n",
      "_________________________________________________________________\n",
      "conv1 (Conv2D)               (None, 112, 112, 32)      864       \n",
      "_________________________________________________________________\n",
      "conv1_bn (BatchNormalization (None, 112, 112, 32)      128       \n",
      "_________________________________________________________________\n",
      "conv1_relu (ReLU)            (None, 112, 112, 32)      0         \n",
      "_________________________________________________________________\n",
      "conv_dw_1 (DepthwiseConv2D)  (None, 112, 112, 32)      288       \n",
      "_________________________________________________________________\n",
      "conv_dw_1_bn (BatchNormaliza (None, 112, 112, 32)      128       \n",
      "_________________________________________________________________\n",
      "conv_dw_1_relu (ReLU)        (None, 112, 112, 32)      0         \n",
      "_________________________________________________________________\n",
      "conv_pw_1 (Conv2D)           (None, 112, 112, 64)      2048      \n",
      "_________________________________________________________________\n",
      "conv_pw_1_bn (BatchNormaliza (None, 112, 112, 64)      256       \n",
      "_________________________________________________________________\n",
      "conv_pw_1_relu (ReLU)        (None, 112, 112, 64)      0         \n",
      "_________________________________________________________________\n",
      "conv_pad_2 (ZeroPadding2D)   (None, 113, 113, 64)      0         \n",
      "_________________________________________________________________\n",
      "conv_dw_2 (DepthwiseConv2D)  (None, 56, 56, 64)        576       \n",
      "_________________________________________________________________\n",
      "conv_dw_2_bn (BatchNormaliza (None, 56, 56, 64)        256       \n",
      "_________________________________________________________________\n",
      "conv_dw_2_relu (ReLU)        (None, 56, 56, 64)        0         \n",
      "_________________________________________________________________\n",
      "conv_pw_2 (Conv2D)           (None, 56, 56, 128)       8192      \n",
      "_________________________________________________________________\n",
      "conv_pw_2_bn (BatchNormaliza (None, 56, 56, 128)       512       \n",
      "_________________________________________________________________\n",
      "conv_pw_2_relu (ReLU)        (None, 56, 56, 128)       0         \n",
      "_________________________________________________________________\n",
      "conv_dw_3 (DepthwiseConv2D)  (None, 56, 56, 128)       1152      \n",
      "_________________________________________________________________\n",
      "conv_dw_3_bn (BatchNormaliza (None, 56, 56, 128)       512       \n",
      "_________________________________________________________________\n",
      "conv_dw_3_relu (ReLU)        (None, 56, 56, 128)       0         \n",
      "_________________________________________________________________\n",
      "conv_pw_3 (Conv2D)           (None, 56, 56, 128)       16384     \n",
      "_________________________________________________________________\n",
      "conv_pw_3_bn (BatchNormaliza (None, 56, 56, 128)       512       \n",
      "_________________________________________________________________\n",
      "conv_pw_3_relu (ReLU)        (None, 56, 56, 128)       0         \n",
      "_________________________________________________________________\n",
      "conv_pad_4 (ZeroPadding2D)   (None, 57, 57, 128)       0         \n",
      "_________________________________________________________________\n",
      "conv_dw_4 (DepthwiseConv2D)  (None, 28, 28, 128)       1152      \n",
      "_________________________________________________________________\n",
      "conv_dw_4_bn (BatchNormaliza (None, 28, 28, 128)       512       \n",
      "_________________________________________________________________\n",
      "conv_dw_4_relu (ReLU)        (None, 28, 28, 128)       0         \n",
      "_________________________________________________________________\n",
      "conv_pw_4 (Conv2D)           (None, 28, 28, 256)       32768     \n",
      "_________________________________________________________________\n",
      "conv_pw_4_bn (BatchNormaliza (None, 28, 28, 256)       1024      \n",
      "_________________________________________________________________\n",
      "conv_pw_4_relu (ReLU)        (None, 28, 28, 256)       0         \n",
      "_________________________________________________________________\n",
      "conv_dw_5 (DepthwiseConv2D)  (None, 28, 28, 256)       2304      \n",
      "_________________________________________________________________\n",
      "conv_dw_5_bn (BatchNormaliza (None, 28, 28, 256)       1024      \n",
      "_________________________________________________________________\n",
      "conv_dw_5_relu (ReLU)        (None, 28, 28, 256)       0         \n",
      "_________________________________________________________________\n",
      "conv_pw_5 (Conv2D)           (None, 28, 28, 256)       65536     \n",
      "_________________________________________________________________\n",
      "conv_pw_5_bn (BatchNormaliza (None, 28, 28, 256)       1024      \n",
      "_________________________________________________________________\n",
      "conv_pw_5_relu (ReLU)        (None, 28, 28, 256)       0         \n",
      "_________________________________________________________________\n",
      "conv_pad_6 (ZeroPadding2D)   (None, 29, 29, 256)       0         \n",
      "_________________________________________________________________\n",
      "conv_dw_6 (DepthwiseConv2D)  (None, 14, 14, 256)       2304      \n",
      "_________________________________________________________________\n",
      "conv_dw_6_bn (BatchNormaliza (None, 14, 14, 256)       1024      \n",
      "_________________________________________________________________\n",
      "conv_dw_6_relu (ReLU)        (None, 14, 14, 256)       0         \n",
      "_________________________________________________________________\n",
      "conv_pw_6 (Conv2D)           (None, 14, 14, 512)       131072    \n",
      "_________________________________________________________________\n",
      "conv_pw_6_bn (BatchNormaliza (None, 14, 14, 512)       2048      \n",
      "_________________________________________________________________\n",
      "conv_pw_6_relu (ReLU)        (None, 14, 14, 512)       0         \n",
      "_________________________________________________________________\n",
      "conv_dw_7 (DepthwiseConv2D)  (None, 14, 14, 512)       4608      \n",
      "_________________________________________________________________\n",
      "conv_dw_7_bn (BatchNormaliza (None, 14, 14, 512)       2048      \n",
      "_________________________________________________________________\n",
      "conv_dw_7_relu (ReLU)        (None, 14, 14, 512)       0         \n",
      "_________________________________________________________________\n",
      "conv_pw_7 (Conv2D)           (None, 14, 14, 512)       262144    \n",
      "_________________________________________________________________\n",
      "conv_pw_7_bn (BatchNormaliza (None, 14, 14, 512)       2048      \n",
      "_________________________________________________________________\n",
      "conv_pw_7_relu (ReLU)        (None, 14, 14, 512)       0         \n",
      "_________________________________________________________________\n",
      "conv_dw_8 (DepthwiseConv2D)  (None, 14, 14, 512)       4608      \n",
      "_________________________________________________________________\n",
      "conv_dw_8_bn (BatchNormaliza (None, 14, 14, 512)       2048      \n",
      "_________________________________________________________________\n",
      "conv_dw_8_relu (ReLU)        (None, 14, 14, 512)       0         \n",
      "_________________________________________________________________\n",
      "conv_pw_8 (Conv2D)           (None, 14, 14, 512)       262144    \n",
      "_________________________________________________________________\n",
      "conv_pw_8_bn (BatchNormaliza (None, 14, 14, 512)       2048      \n",
      "_________________________________________________________________\n",
      "conv_pw_8_relu (ReLU)        (None, 14, 14, 512)       0         \n",
      "_________________________________________________________________\n",
      "conv_dw_9 (DepthwiseConv2D)  (None, 14, 14, 512)       4608      \n",
      "_________________________________________________________________\n",
      "conv_dw_9_bn (BatchNormaliza (None, 14, 14, 512)       2048      \n",
      "_________________________________________________________________\n",
      "conv_dw_9_relu (ReLU)        (None, 14, 14, 512)       0         \n",
      "_________________________________________________________________\n",
      "conv_pw_9 (Conv2D)           (None, 14, 14, 512)       262144    \n",
      "_________________________________________________________________\n",
      "conv_pw_9_bn (BatchNormaliza (None, 14, 14, 512)       2048      \n",
      "_________________________________________________________________\n",
      "conv_pw_9_relu (ReLU)        (None, 14, 14, 512)       0         \n",
      "_________________________________________________________________\n",
      "conv_dw_10 (DepthwiseConv2D) (None, 14, 14, 512)       4608      \n",
      "_________________________________________________________________\n",
      "conv_dw_10_bn (BatchNormaliz (None, 14, 14, 512)       2048      \n",
      "_________________________________________________________________\n",
      "conv_dw_10_relu (ReLU)       (None, 14, 14, 512)       0         \n",
      "_________________________________________________________________\n",
      "conv_pw_10 (Conv2D)          (None, 14, 14, 512)       262144    \n",
      "_________________________________________________________________\n",
      "conv_pw_10_bn (BatchNormaliz (None, 14, 14, 512)       2048      \n",
      "_________________________________________________________________\n",
      "conv_pw_10_relu (ReLU)       (None, 14, 14, 512)       0         \n",
      "_________________________________________________________________\n",
      "conv_dw_11 (DepthwiseConv2D) (None, 14, 14, 512)       4608      \n",
      "_________________________________________________________________\n",
      "conv_dw_11_bn (BatchNormaliz (None, 14, 14, 512)       2048      \n",
      "_________________________________________________________________\n",
      "conv_dw_11_relu (ReLU)       (None, 14, 14, 512)       0         \n",
      "_________________________________________________________________\n",
      "conv_pw_11 (Conv2D)          (None, 14, 14, 512)       262144    \n",
      "_________________________________________________________________\n",
      "conv_pw_11_bn (BatchNormaliz (None, 14, 14, 512)       2048      \n",
      "_________________________________________________________________\n",
      "conv_pw_11_relu (ReLU)       (None, 14, 14, 512)       0         \n",
      "_________________________________________________________________\n",
      "conv_pad_12 (ZeroPadding2D)  (None, 15, 15, 512)       0         \n",
      "_________________________________________________________________\n",
      "conv_dw_12 (DepthwiseConv2D) (None, 7, 7, 512)         4608      \n",
      "_________________________________________________________________\n",
      "conv_dw_12_bn (BatchNormaliz (None, 7, 7, 512)         2048      \n",
      "_________________________________________________________________\n",
      "conv_dw_12_relu (ReLU)       (None, 7, 7, 512)         0         \n",
      "_________________________________________________________________\n",
      "conv_pw_12 (Conv2D)          (None, 7, 7, 1024)        524288    \n",
      "_________________________________________________________________\n",
      "conv_pw_12_bn (BatchNormaliz (None, 7, 7, 1024)        4096      \n",
      "_________________________________________________________________\n",
      "conv_pw_12_relu (ReLU)       (None, 7, 7, 1024)        0         \n",
      "_________________________________________________________________\n",
      "conv_dw_13 (DepthwiseConv2D) (None, 7, 7, 1024)        9216      \n",
      "_________________________________________________________________\n",
      "conv_dw_13_bn (BatchNormaliz (None, 7, 7, 1024)        4096      \n",
      "_________________________________________________________________\n",
      "conv_dw_13_relu (ReLU)       (None, 7, 7, 1024)        0         \n",
      "_________________________________________________________________\n",
      "conv_pw_13 (Conv2D)          (None, 7, 7, 1024)        1048576   \n",
      "_________________________________________________________________\n",
      "conv_pw_13_bn (BatchNormaliz (None, 7, 7, 1024)        4096      \n",
      "_________________________________________________________________\n",
      "conv_pw_13_relu (ReLU)       (None, 7, 7, 1024)        0         \n",
      "_________________________________________________________________\n",
      "global_average_pooling2d (Gl (None, 1024)              0         \n",
      "_________________________________________________________________\n",
      "dense (Dense)                (None, 6)                 6150      \n",
      "=================================================================\n",
      "Total params: 3,235,014\n",
      "Trainable params: 3,213,126\n",
      "Non-trainable params: 21,888\n",
      "_________________________________________________________________\n"
     ]
    }
   ],
   "source": [
    "model.summary()"
   ]
  },
  {
   "cell_type": "code",
   "execution_count": 11,
   "id": "418abc82",
   "metadata": {},
   "outputs": [],
   "source": [
    "lr=1e-4\n",
    "model.compile(\n",
    "                loss=\"categorical_crossentropy\",\n",
    "                metrics=[\"accuracy\"],\n",
    "                optimizer = tf.keras.optimizers.Adam(lr))"
   ]
  },
  {
   "cell_type": "markdown",
   "id": "1b366b34",
   "metadata": {},
   "source": [
    "# Stop condition"
   ]
  },
  {
   "cell_type": "code",
   "execution_count": 12,
   "id": "12815e7b",
   "metadata": {},
   "outputs": [],
   "source": [
    "from tensorflow.keras import callbacks\n",
    "\n",
    "earlystop = callbacks.EarlyStopping(monitor='val_loss',\n",
    "                    patience=10,\n",
    "                    verbose=1)\n",
    "\n",
    "from tensorflow.keras.callbacks import ReduceLROnPlateau\n",
    "reduce_lr=ReduceLROnPlateau(monitor='accuracy',\n",
    "                             patience=2,\n",
    "                             verbose=1,\n",
    "                             factor=0.5,\n",
    "                             min_lr=0.00001\n",
    "                             )\n",
    "\n",
    "\n",
    "callbacks_list = [earlystop,reduce_lr]\n",
    "\n"
   ]
  },
  {
   "cell_type": "markdown",
   "id": "74b32007",
   "metadata": {},
   "source": [
    "# Training "
   ]
  },
  {
   "cell_type": "code",
   "execution_count": 13,
   "id": "418eec1e",
   "metadata": {},
   "outputs": [
    {
     "name": "stdout",
     "output_type": "stream",
     "text": [
      "Epoch 1/100\n",
      "WARNING:tensorflow:From C:\\Users\\yantinglai\\anaconda3\\envs\\tf2.0\\lib\\site-packages\\tensorflow\\python\\ops\\math_grad.py:1250: add_dispatch_support.<locals>.wrapper (from tensorflow.python.ops.array_ops) is deprecated and will be removed in a future version.\n",
      "Instructions for updating:\n",
      "Use tf.where in 2.0, which has the same broadcast rule as np.where\n",
      "127/127 [==============================] - 124s 976ms/step - loss: 0.3697 - accuracy: 0.8729 - val_loss: 1.3124 - val_accuracy: 0.5632\n",
      "Epoch 2/100\n",
      "127/127 [==============================] - 105s 829ms/step - loss: 0.0886 - accuracy: 0.9698 - val_loss: 0.4740 - val_accuracy: 0.8636\n",
      "Epoch 3/100\n",
      "127/127 [==============================] - 106s 838ms/step - loss: 0.0429 - accuracy: 0.9866 - val_loss: 0.4788 - val_accuracy: 0.8814\n",
      "Epoch 4/100\n",
      "127/127 [==============================] - 107s 843ms/step - loss: 0.0222 - accuracy: 0.9941 - val_loss: 0.1271 - val_accuracy: 0.9625\n",
      "Epoch 5/100\n",
      "127/127 [==============================] - 109s 856ms/step - loss: 0.0167 - accuracy: 0.9951 - val_loss: 0.0625 - val_accuracy: 0.9743\n",
      "Epoch 6/100\n",
      "127/127 [==============================] - 108s 852ms/step - loss: 0.0045 - accuracy: 1.0000 - val_loss: 0.0533 - val_accuracy: 0.9783\n",
      "Epoch 7/100\n",
      "127/127 [==============================] - 114s 897ms/step - loss: 0.0038 - accuracy: 1.0000 - val_loss: 0.0525 - val_accuracy: 0.9862\n",
      "Epoch 8/100\n",
      "126/127 [============================>.] - ETA: 0s - loss: 0.0062 - accuracy: 0.9980\n",
      "Epoch 00008: ReduceLROnPlateau reducing learning rate to 4.999999873689376e-05.\n",
      "127/127 [==============================] - 108s 851ms/step - loss: 0.0061 - accuracy: 0.9980 - val_loss: 0.0680 - val_accuracy: 0.9743\n",
      "Epoch 9/100\n",
      "127/127 [==============================] - 109s 854ms/step - loss: 0.0031 - accuracy: 0.9995 - val_loss: 0.0723 - val_accuracy: 0.9802\n",
      "Epoch 10/100\n",
      "126/127 [============================>.] - ETA: 0s - loss: 0.0029 - accuracy: 0.9995\n",
      "Epoch 00010: ReduceLROnPlateau reducing learning rate to 2.499999936844688e-05.\n",
      "127/127 [==============================] - 109s 855ms/step - loss: 0.0028 - accuracy: 0.9995 - val_loss: 0.0723 - val_accuracy: 0.9802\n",
      "Epoch 11/100\n",
      "127/127 [==============================] - 108s 853ms/step - loss: 0.0020 - accuracy: 1.0000 - val_loss: 0.0623 - val_accuracy: 0.9842\n",
      "Epoch 12/100\n",
      "126/127 [============================>.] - ETA: 0s - loss: 0.0013 - accuracy: 1.0000\n",
      "Epoch 00012: ReduceLROnPlateau reducing learning rate to 1.249999968422344e-05.\n",
      "127/127 [==============================] - 108s 850ms/step - loss: 0.0013 - accuracy: 1.0000 - val_loss: 0.0609 - val_accuracy: 0.9842\n",
      "Epoch 13/100\n",
      "127/127 [==============================] - 109s 855ms/step - loss: 0.0015 - accuracy: 1.0000 - val_loss: 0.0598 - val_accuracy: 0.9862\n",
      "Epoch 14/100\n",
      "126/127 [============================>.] - ETA: 0s - loss: 0.0014 - accuracy: 1.0000\n",
      "Epoch 00014: ReduceLROnPlateau reducing learning rate to 1e-05.\n",
      "127/127 [==============================] - 110s 864ms/step - loss: 0.0014 - accuracy: 1.0000 - val_loss: 0.0597 - val_accuracy: 0.9881\n",
      "Epoch 15/100\n",
      "127/127 [==============================] - 110s 864ms/step - loss: 0.0011 - accuracy: 1.0000 - val_loss: 0.0601 - val_accuracy: 0.9881\n",
      "Epoch 16/100\n",
      "127/127 [==============================] - 110s 865ms/step - loss: 0.0012 - accuracy: 1.0000 - val_loss: 0.0546 - val_accuracy: 0.9881\n",
      "Epoch 17/100\n",
      "127/127 [==============================] - 111s 872ms/step - loss: 0.0013 - accuracy: 1.0000 - val_loss: 0.0530 - val_accuracy: 0.9881\n",
      "Epoch 00017: early stopping\n"
     ]
    }
   ],
   "source": [
    "history=model.fit_generator(train_generator,steps_per_epoch=train_steps,\n",
    "                              epochs=100,\n",
    "                              validation_data=valid_generator,\n",
    "                              validation_steps=valid_steps,\n",
    "                              class_weight=class_weight,\n",
    "                              callbacks=callbacks_list)"
   ]
  },
  {
   "cell_type": "markdown",
   "id": "25d4ef42",
   "metadata": {},
   "source": [
    "# Evaluate"
   ]
  },
  {
   "cell_type": "code",
   "execution_count": 14,
   "id": "9bed88ce",
   "metadata": {},
   "outputs": [
    {
     "name": "stdout",
     "output_type": "stream",
     "text": [
      "Confusion Matrix\n",
      "[[151   0   0   0   0   0]\n",
      " [  2  91   0   1   0   0]\n",
      " [  0   0  22   0   0   0]\n",
      " [  0   0   0  77   2   0]\n",
      " [  0   0   0   1  40   0]\n",
      " [  0   0   0   0   0 119]]\n",
      "Classification Report\n",
      "              precision    recall  f1-score   support\n",
      "\n",
      "           0       0.99      1.00      0.99       151\n",
      "           1       1.00      0.97      0.98        94\n",
      "           2       1.00      1.00      1.00        22\n",
      "           3       0.97      0.97      0.97        79\n",
      "           4       0.95      0.98      0.96        41\n",
      "           5       1.00      1.00      1.00       119\n",
      "\n",
      "    accuracy                           0.99       506\n",
      "   macro avg       0.99      0.99      0.99       506\n",
      "weighted avg       0.99      0.99      0.99       506\n",
      "\n"
     ]
    }
   ],
   "source": [
    "from sklearn.metrics import classification_report, confusion_matrix\n",
    "Y_valid_pred = model.predict_generator(valid_generator, valid_steps)\n",
    "y_valid_pred = np.argmax(Y_valid_pred , axis=-1)\n",
    "print('Confusion Matrix')\n",
    "print(confusion_matrix(valid_generator.classes, y_valid_pred))\n",
    "print('Classification Report')\n",
    "print(classification_report(valid_generator.classes, y_valid_pred))"
   ]
  },
  {
   "cell_type": "code",
   "execution_count": 32,
   "id": "12c23eb3",
   "metadata": {},
   "outputs": [
    {
     "data": {
      "image/png": "[encoded data removed]",
      "text/plain": [
       "<Figure size 432x288 with 2 Axes>"
      ]
     },
     "metadata": {
      "needs_background": "light"
     },
     "output_type": "display_data"
    }
   ],
   "source": [
    "import seaborn as sns\n",
    "cm=confusion_matrix(valid_generator.classes, y_valid_pred)\n",
    "sns.heatmap(cm,annot=True,cmap=\"Reds\")\n",
    "plt.title(\"MobileNet\")\n",
    "plt.show()"
   ]
  },
  {
   "cell_type": "code",
   "execution_count": 15,
   "id": "06df1dfe",
   "metadata": {},
   "outputs": [
    {
     "data": {
      "image/png": "[encoded data removed]",
      "text/plain": [
       "<Figure size 432x288 with 1 Axes>"
      ]
     },
     "metadata": {
      "needs_background": "light"
     },
     "output_type": "display_data"
    }
   ],
   "source": [
    "import matplotlib.pyplot as plt\n",
    "\n",
    "plt.plot(history.history['accuracy'])\n",
    "plt.plot(history.history['val_accuracy'])\n",
    "plt.title('model accuracy')\n",
    "plt.ylabel('accuracy')\n",
    "plt.xlabel('epoch')\n",
    "plt.legend([\"train\",\"validation \"], loc='upper left') \n",
    "plt.show()"
   ]
  },
  {
   "cell_type": "code",
   "execution_count": null,
   "id": "4484b0c4",
   "metadata": {},
   "outputs": [],
   "source": []
  }
 ],
 "metadata": {
  "kernelspec": {
   "display_name": "Python 3",
   "language": "python",
   "name": "python3"
  },
  "language_info": {
   "codemirror_mode": {
    "name": "ipython",
    "version": 3
   },
   "file_extension": ".py",
   "mimetype": "text/x-python",
   "name": "python",
   "nbconvert_exporter": "python",
   "pygments_lexer": "ipython3",
   "version": "3.7.10"
  },
  "toc": {
   "base_numbering": 1,
   "nav_menu": {},
   "number_sections": true,
   "sideBar": true,
   "skip_h1_title": false,
   "title_cell": "Table of Contents",
   "title_sidebar": "Contents",
   "toc_cell": false,
   "toc_position": {},
   "toc_section_display": true,
   "toc_window_display": false
  }
 },
 "nbformat": 4,
 "nbformat_minor": 5
}
